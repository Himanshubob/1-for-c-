{
  "nbformat": 4,
  "nbformat_minor": 0,
  "metadata": {
    "colab": {
      "provenance": []
    },
    "kernelspec": {
      "name": "python3",
      "display_name": "Python 3"
    },
    "language_info": {
      "name": "python"
    }
  },
  "cells": [
    {
      "cell_type": "code",
      "execution_count": null,
      "metadata": {
        "colab": {
          "base_uri": "https://localhost:8080/"
        },
        "id": "QMNn89_57vtD",
        "outputId": "83249359-0d07-49f8-9063-011b3ced90f5"
      },
      "outputs": [
        {
          "output_type": "stream",
          "name": "stdout",
          "text": [
            "Overwriting Q1.cpp\n"
          ]
        }
      ],
      "source": [
        "%%file Q1.cpp\n",
        "#include<iostream>\n",
        "using namespace std;\n",
        "int main(){\n",
        "    int num;\n",
        "    cin>>num;\n",
        "\n",
        "    if(num%2==0){\n",
        "        cout<<\"the given  number is  even \"<<num<<endl;\n",
        "    }\n",
        "  else {\n",
        "      cout<<\"the given nymber is odd  \"<<num<<endl;\n",
        "  }\n",
        "    return 0;\n",
        "}"
      ]
    },
    {
      "cell_type": "code",
      "source": [
        "!g++ Q1.cpp\n",
        "!./a.out"
      ],
      "metadata": {
        "colab": {
          "base_uri": "https://localhost:8080/"
        },
        "id": "217KXJc-8x2N",
        "outputId": "17c669e3-8d78-49a8-8497-17e50466b748"
      },
      "execution_count": null,
      "outputs": [
        {
          "output_type": "stream",
          "name": "stdout",
          "text": [
            "5\n",
            "the given nymber is odd  5\n"
          ]
        }
      ]
    },
    {
      "cell_type": "code",
      "source": [
        "%%file Q2.cpp\n",
        "#include<iostream>\n",
        "using namespace std;\n",
        "int main(){\n",
        "    int num;\n",
        "    cout<<\"enter the number is \"<<endl;\n",
        "    cin>>num;\n",
        "    if(num%3==0 || num%5==0)\n",
        "    {\n",
        "        cout <<\"the given number is divide of 3 or 5\"<<endl;\n",
        "\n",
        "    }\n",
        "    else{\n",
        "        cout<<\" the given number is not divend of 3 or 5\"<<endl;\n",
        "    }\n",
        "    return 0;\n",
        "}"
      ],
      "metadata": {
        "colab": {
          "base_uri": "https://localhost:8080/"
        },
        "id": "A4A5Op-v_FkP",
        "outputId": "0e0f5237-21b9-452d-a6fb-26435bdc6af1"
      },
      "execution_count": null,
      "outputs": [
        {
          "output_type": "stream",
          "name": "stdout",
          "text": [
            "Overwriting Q2.cpp\n"
          ]
        }
      ]
    },
    {
      "cell_type": "code",
      "source": [
        "!g++ Q2.cpp\n",
        "!./a.out"
      ],
      "metadata": {
        "colab": {
          "base_uri": "https://localhost:8080/"
        },
        "id": "VdJeTNhT__0b",
        "outputId": "a2e62ee4-d3cb-4a32-f532-cd608ad80cc5"
      },
      "execution_count": null,
      "outputs": [
        {
          "output_type": "stream",
          "name": "stdout",
          "text": [
            "enter the number is \n",
            "5\n",
            "the given number is divide of 3 or 5\n"
          ]
        }
      ]
    },
    {
      "cell_type": "code",
      "source": [
        "%%file Q3.cpp\n",
        "#include<iostream>\n",
        "using namespace std ;\n",
        "int main(){\n",
        "    int num=1;\n",
        "    while (num<=5){\n",
        "        cout<<\"hello\"<<num<<endl;\n",
        "        num+=1;\n",
        "    }\n",
        "\n",
        "    return 0;}"
      ],
      "metadata": {
        "colab": {
          "base_uri": "https://localhost:8080/"
        },
        "id": "wX1h3m_X8-qo",
        "outputId": "e24dc1f1-e8a6-4413-bb7a-ca1046b0f09e"
      },
      "execution_count": null,
      "outputs": [
        {
          "output_type": "stream",
          "name": "stdout",
          "text": [
            "Overwriting Q3.cpp\n"
          ]
        }
      ]
    },
    {
      "cell_type": "code",
      "source": [
        "!g++ Q3.cpp\n",
        "!./a.out"
      ],
      "metadata": {
        "colab": {
          "base_uri": "https://localhost:8080/"
        },
        "id": "8nWVGDfW9ibX",
        "outputId": "b001b7c6-1758-43d0-85e4-6dcec046cd6f"
      },
      "execution_count": null,
      "outputs": [
        {
          "output_type": "stream",
          "name": "stdout",
          "text": [
            "hello1\n",
            "hello2\n",
            "hello3\n",
            "hello4\n",
            "hello5\n"
          ]
        }
      ]
    },
    {
      "cell_type": "code",
      "source": [
        "\n",
        "# print the n natural number\n",
        "%%file Q4.cpp\n",
        "# include<iostream>\n",
        "using namespace std ;\n",
        "int main(){\n",
        "    int num;\n",
        "    cout<<\"enter the number is ;\"<<endl;\n",
        "    cin>>num;\n",
        "    int sum=0;\n",
        "    int i=1;\n",
        "    while(i<= num){\n",
        "        sum+=i;\n",
        "        i++;\n",
        "    }\n",
        "    cout<<sum<<endl;\n",
        "}"
      ],
      "metadata": {
        "colab": {
          "base_uri": "https://localhost:8080/"
        },
        "id": "T4EZlsjl-93A",
        "outputId": "0f8ef703-0e27-41cb-d437-cb7aa3853772"
      },
      "execution_count": null,
      "outputs": [
        {
          "output_type": "stream",
          "name": "stdout",
          "text": [
            "Overwriting Q4.cpp\n"
          ]
        }
      ]
    },
    {
      "cell_type": "code",
      "source": [
        "!g++ Q4.cpp\n",
        "!./a.out"
      ],
      "metadata": {
        "colab": {
          "base_uri": "https://localhost:8080/"
        },
        "id": "NkZaAq0JAUKO",
        "outputId": "d9629dd5-63d0-49e5-bb41-e7cd29ad26b6"
      },
      "execution_count": null,
      "outputs": [
        {
          "output_type": "stream",
          "name": "stdout",
          "text": [
            "enter the number is ;\n",
            "2\n",
            "3\n"
          ]
        }
      ]
    },
    {
      "cell_type": "code",
      "source": [
        "# print the number using the for loop\n",
        "%%file Q5.cpp\n",
        "#include<iostream>\n",
        "using namespace std;\n",
        "int main(){\n",
        "    for (int i=1;i<=5;i++){\n",
        "        cout<<i<<endl;\n",
        "    }\n",
        "    return 0;\n",
        "}"
      ],
      "metadata": {
        "colab": {
          "base_uri": "https://localhost:8080/"
        },
        "id": "lp5rpVtNBiXR",
        "outputId": "ae38365d-73b2-4f88-d4d6-8e08c2d27387"
      },
      "execution_count": null,
      "outputs": [
        {
          "output_type": "stream",
          "name": "stdout",
          "text": [
            "Writing Q5.cpp\n"
          ]
        }
      ]
    },
    {
      "cell_type": "code",
      "source": [
        "!g++ Q5.cpp\n",
        "!./a.out"
      ],
      "metadata": {
        "colab": {
          "base_uri": "https://localhost:8080/"
        },
        "id": "SSJmF2cUCDau",
        "outputId": "6f31c2cb-2cbb-4a26-9ed3-9fdb17fbbcf0"
      },
      "execution_count": null,
      "outputs": [
        {
          "output_type": "stream",
          "name": "stdout",
          "text": [
            "1\n",
            "2\n",
            "3\n",
            "4\n",
            "5\n"
          ]
        }
      ]
    },
    {
      "cell_type": "code",
      "source": [
        "# first nutral  number sum\n",
        "%%file Q6.cpp\n",
        "#include<iostream>\n",
        "using namespace std;\n",
        "int main(){\n",
        "    int num;\n",
        "    cin>>num;\n",
        "    int sum=0;\n",
        "    for ( int i=1;i<=num;i++){\n",
        "        sum+=i;\n",
        "\n",
        "    }\n",
        "     cout<<sum<<endl;\n",
        "    return 0;\n",
        "}"
      ],
      "metadata": {
        "colab": {
          "base_uri": "https://localhost:8080/"
        },
        "id": "yCQQXlVqC2TY",
        "outputId": "737b1fa6-41d8-435c-ec61-91b5ac1573d2"
      },
      "execution_count": null,
      "outputs": [
        {
          "output_type": "stream",
          "name": "stdout",
          "text": [
            "Overwriting Q6.cpp\n"
          ]
        }
      ]
    },
    {
      "cell_type": "code",
      "source": [
        "!g++ Q6.cpp\n",
        "!./a.out"
      ],
      "metadata": {
        "colab": {
          "base_uri": "https://localhost:8080/"
        },
        "id": "61760n6yDnty",
        "outputId": "6f94f7d0-8a63-46a6-ec07-c46fd21de125"
      },
      "execution_count": null,
      "outputs": [
        {
          "output_type": "stream",
          "name": "stdout",
          "text": [
            "4\n",
            "10\n"
          ]
        }
      ]
    },
    {
      "cell_type": "code",
      "source": [
        "# using the while loop cheak the condiation\n",
        "%%file Q7.cpp\n",
        "#include<iostream>\n",
        "using namespace std;\n",
        "int main(){\n",
        "    while(true){\n",
        "        int n;\n",
        "        cin>>n;\n",
        "        if(n==-1){ cout<<\" the given number is negative \"<<endl;\n",
        "            break;\n",
        "\n",
        "        }\n",
        "        else{\n",
        "            cout<<n;\n",
        "            break;\n",
        "        }\n",
        "    }\n",
        "    return 0;\n",
        "}"
      ],
      "metadata": {
        "colab": {
          "base_uri": "https://localhost:8080/"
        },
        "id": "0f62L8Csm9oD",
        "outputId": "626bc323-74fa-4391-f825-2292342afbd4"
      },
      "execution_count": null,
      "outputs": [
        {
          "output_type": "stream",
          "name": "stdout",
          "text": [
            "Overwriting Q7.cpp\n"
          ]
        }
      ]
    },
    {
      "cell_type": "code",
      "source": [
        "!g++ Q7.cpp\n",
        "!./a.out"
      ],
      "metadata": {
        "colab": {
          "base_uri": "https://localhost:8080/"
        },
        "id": "Q6KjUaSLoPU8",
        "outputId": "db4e11c0-f91e-45af-b890-673e28f5eaf1"
      },
      "execution_count": null,
      "outputs": [
        {
          "output_type": "stream",
          "name": "stdout",
          "text": [
            "5\n",
            "5"
          ]
        }
      ]
    },
    {
      "cell_type": "code",
      "source": [
        "#find the multiple of 5 is also is multiple of 7\n",
        "%%file Q8.cpp\n",
        "#include<iostream>\n",
        "using namespace std;\n",
        "int main(){\n",
        "    int i=5;\n",
        "    while(true){\n",
        "        if(i%7==0){\n",
        "            cout<<\"the given number is also multiple of 7  ==\"<<i<<endl;\n",
        "            break;\n",
        "        }\n",
        "        i+=5;\n",
        "    }\n",
        "    return 0;\n",
        "}"
      ],
      "metadata": {
        "colab": {
          "base_uri": "https://localhost:8080/"
        },
        "id": "KTE-XFGVpw7l",
        "outputId": "96658981-09ce-470e-9981-fb252fee96a8"
      },
      "execution_count": null,
      "outputs": [
        {
          "output_type": "stream",
          "name": "stdout",
          "text": [
            "Overwriting Q8.cpp\n"
          ]
        }
      ]
    },
    {
      "cell_type": "code",
      "source": [
        "!g++ Q8.cpp\n",
        "!./a.out"
      ],
      "metadata": {
        "colab": {
          "base_uri": "https://localhost:8080/"
        },
        "id": "lSiY0X5Rq4_O",
        "outputId": "e77f881c-abba-490b-b78e-e8f9e9145fdf"
      },
      "execution_count": null,
      "outputs": [
        {
          "output_type": "stream",
          "name": "stdout",
          "text": [
            "the given number is also multiple of 7  ==35\n"
          ]
        }
      ]
    },
    {
      "cell_type": "code",
      "source": [
        "# same queastion for for loops\n",
        "%%file Q9.cpp\n",
        "#include<iostream>\n",
        "using namespace std;\n",
        "int main(){\n",
        "    for (int i=5; ;i+=5){\n",
        "        if(i%7==0){\n",
        "        cout<<i<<endl;\n",
        "       break;}\n",
        "   }\n",
        "\n",
        "}"
      ],
      "metadata": {
        "colab": {
          "base_uri": "https://localhost:8080/"
        },
        "id": "QuUGy0rQrXrO",
        "outputId": "4037ac40-aa6b-46a1-cc9b-5ebd74c84b33"
      },
      "execution_count": null,
      "outputs": [
        {
          "output_type": "stream",
          "name": "stdout",
          "text": [
            "Overwriting Q9.cpp\n"
          ]
        }
      ]
    },
    {
      "cell_type": "code",
      "source": [
        "!g++ Q9.cpp\n",
        "!./a.out"
      ],
      "metadata": {
        "colab": {
          "base_uri": "https://localhost:8080/"
        },
        "id": "Ot63Icx8r4cE",
        "outputId": "6854de51-9af1-4bc0-fe17-e083d63312a0"
      },
      "execution_count": null,
      "outputs": [
        {
          "output_type": "stream",
          "name": "stdout",
          "text": [
            "35\n"
          ]
        }
      ]
    },
    {
      "cell_type": "code",
      "source": [
        "# print thr all number ecepet the multiple of 3\n",
        "%%file Q10.cpp\n",
        "#include<iostream>\n",
        "using namespace std ;\n",
        "int main(){\n",
        "    int i=1;\n",
        "    while(i<50){\n",
        "        if(i%3==0){\n",
        "            continue;\n",
        "\n",
        "        }\n",
        " cout<<i<<endl;\n",
        "         i+=1;\n",
        "\n",
        "\n",
        "\n",
        "    }\n",
        "\n",
        "}"
      ],
      "metadata": {
        "colab": {
          "base_uri": "https://localhost:8080/"
        },
        "id": "fsI5CK51tVKa",
        "outputId": "95d502fc-0b26-411a-c975-2bf808756d21"
      },
      "execution_count": null,
      "outputs": [
        {
          "output_type": "stream",
          "name": "stdout",
          "text": [
            "Writing Q10.cpp\n"
          ]
        }
      ]
    },
    {
      "cell_type": "code",
      "source": [
        "!g++ Q10.cpp\n",
        "!./a.out"
      ],
      "metadata": {
        "colab": {
          "base_uri": "https://localhost:8080/"
        },
        "id": "OEMTGifRuHgX",
        "outputId": "6fafa7f2-5f89-43f7-e346-8ce450da51d1"
      },
      "execution_count": null,
      "outputs": [
        {
          "output_type": "stream",
          "name": "stdout",
          "text": [
            "1\n",
            "2\n",
            "^C\n"
          ]
        }
      ]
    },
    {
      "cell_type": "code",
      "source": [
        "%%file Q11.cpp\n",
        "#include<iostream>\n",
        "using namespace std;\n",
        "int main()\n",
        "{\n",
        "    for(int i=1;i<50;i++){\n",
        "        if(i%3==0){\n",
        "            continue;\n",
        "\n",
        "        }\n",
        "        cout<<i<<endl;\n",
        "    }\n",
        "    return 0;\n",
        "}"
      ],
      "metadata": {
        "colab": {
          "base_uri": "https://localhost:8080/"
        },
        "id": "uHNldbBWvZzg",
        "outputId": "16a98fb9-bc7c-43db-b9af-d184a1f1ae79"
      },
      "execution_count": null,
      "outputs": [
        {
          "output_type": "stream",
          "name": "stdout",
          "text": [
            "Overwriting Q11.cpp\n"
          ]
        }
      ]
    },
    {
      "cell_type": "code",
      "source": [
        "!g++ Q11.cpp\n",
        "!./a.out"
      ],
      "metadata": {
        "colab": {
          "base_uri": "https://localhost:8080/"
        },
        "id": "5XEje0rjv8ty",
        "outputId": "9b8dbd5c-1763-4970-d29d-be58f2aba481"
      },
      "execution_count": null,
      "outputs": [
        {
          "output_type": "stream",
          "name": "stdout",
          "text": [
            "1\n",
            "2\n",
            "4\n",
            "5\n",
            "7\n",
            "8\n",
            "10\n",
            "11\n",
            "13\n",
            "14\n",
            "16\n",
            "17\n",
            "19\n",
            "20\n",
            "22\n",
            "23\n",
            "25\n",
            "26\n",
            "28\n",
            "29\n",
            "31\n",
            "32\n",
            "34\n",
            "35\n",
            "37\n",
            "38\n",
            "40\n",
            "41\n",
            "43\n",
            "44\n",
            "46\n",
            "47\n",
            "49\n"
          ]
        }
      ]
    },
    {
      "cell_type": "code",
      "source": [
        "# print the rectange\n",
        "%%file Q12.cpp\n",
        "#include<iostream>\n",
        "using namespace std;\n",
        "int main(){\n",
        "    int n,m;  // n is row and m is colums\n",
        "    cout<<\"enter the value of n and m \"<<endl;\n",
        "    cin>>n>>m;\n",
        "for (int j=1;j<=n;j++){\n",
        "  for( int i=1 ;i<=m;i++){\n",
        "      cout<<\"*\";\n",
        "  }\n",
        "    cout<<endl;}\n",
        "}"
      ],
      "metadata": {
        "colab": {
          "base_uri": "https://localhost:8080/"
        },
        "id": "ovD7V5h83kow",
        "outputId": "38b79263-40b0-4cd6-e45c-a825764d4a55"
      },
      "execution_count": null,
      "outputs": [
        {
          "output_type": "stream",
          "name": "stdout",
          "text": [
            "Overwriting Q12.cpp\n"
          ]
        }
      ]
    },
    {
      "cell_type": "code",
      "source": [
        "!g++ Q12.cpp\n",
        "!./a.out"
      ],
      "metadata": {
        "colab": {
          "base_uri": "https://localhost:8080/"
        },
        "id": "5aywddL84b8T",
        "outputId": "c8251315-d28d-4f77-cdc5-c6a37c27a8a2"
      },
      "execution_count": null,
      "outputs": [
        {
          "output_type": "stream",
          "name": "stdout",
          "text": [
            "enter the value of n and m \n",
            "3\n",
            "3\n",
            "***\n",
            "***\n",
            "***\n"
          ]
        }
      ]
    },
    {
      "cell_type": "code",
      "source": [
        "  #hollo patern print\n",
        "  %%file Q13.cpp\n",
        "  #include<iostream>\n",
        "  using namespace std;\n",
        "  int main(){\n",
        "      int n,m;\n",
        "      cout<<\" enter the value of n and m is :\"<<endl;\n",
        "      cin>>n>>m;\n",
        "      for( int i=1;i<=m;i++){\n",
        "          for ( int j=1;j<=n;j++){\n",
        "              if(i==1 || i==m || j==1 || j==n){\n",
        "                  cout<<\"*\";\n",
        "              }\n",
        "              else{\n",
        "                  cout<<\" \";\n",
        "              }\n",
        "          }\n",
        "          cout<<endl;\n",
        "      }\n",
        "     return 0;\n",
        "  }"
      ],
      "metadata": {
        "colab": {
          "base_uri": "https://localhost:8080/"
        },
        "id": "M46aJQe_87Gr",
        "outputId": "303204f5-c41d-4eed-fecb-4f9739a15545"
      },
      "execution_count": null,
      "outputs": [
        {
          "output_type": "stream",
          "name": "stdout",
          "text": [
            "Overwriting Q13.cpp\n"
          ]
        }
      ]
    },
    {
      "cell_type": "code",
      "source": [
        "!g++ Q13.cpp\n",
        "!./a.out"
      ],
      "metadata": {
        "colab": {
          "base_uri": "https://localhost:8080/"
        },
        "id": "4k5XryE5_6aV",
        "outputId": "13889d1d-9187-495f-ea28-c9bda7e7637a"
      },
      "execution_count": null,
      "outputs": [
        {
          "output_type": "stream",
          "name": "stdout",
          "text": [
            " enter the value of n and m is :\n",
            "4\n",
            "6\n",
            "****\n",
            "*  *\n",
            "*  *\n",
            "*  *\n",
            "*  *\n",
            "****\n"
          ]
        }
      ]
    },
    {
      "cell_type": "code",
      "source": [
        "#print the trangel pattern\n",
        "%%file Q14.cpp\n",
        "#include<iostream>\n",
        "using namespace std;\n",
        "int main(){\n",
        "    int n,m;\n",
        "    cout<<\"enter the value of n and m is :\"<<endl;\n",
        "    cin>>n>>m;\n",
        "    for(int i=1;i<=n;i++){\n",
        "        for (int j=1;j<=m;j++){\n",
        "            if(j<=i){\n",
        "                cout<<\"*\";\n",
        "\n",
        "            }\n",
        "            else{\n",
        "                cout<<\" \";\n",
        "\n",
        "            }\n",
        "\n",
        "        }\n",
        "        cout<<endl;\n",
        "    }\n",
        "}"
      ],
      "metadata": {
        "colab": {
          "base_uri": "https://localhost:8080/"
        },
        "id": "EA_LsfL2Cq0C",
        "outputId": "619c9b48-d7c0-42da-c582-343677523641"
      },
      "execution_count": null,
      "outputs": [
        {
          "output_type": "stream",
          "name": "stdout",
          "text": [
            "Overwriting Q14.cpp\n"
          ]
        }
      ]
    },
    {
      "cell_type": "code",
      "source": [
        "!g++ Q14.cpp\n",
        "!./a.out"
      ],
      "metadata": {
        "colab": {
          "base_uri": "https://localhost:8080/"
        },
        "id": "52Jq0VmvEpiR",
        "outputId": "6e189ce8-41b9-4cd8-82d1-712478639f91"
      },
      "execution_count": null,
      "outputs": [
        {
          "output_type": "stream",
          "name": "stdout",
          "text": [
            "enter the value of n and m is :\n",
            "4\n",
            "7\n",
            "*      \n",
            "**     \n",
            "***    \n",
            "****   \n"
          ]
        }
      ]
    },
    {
      "cell_type": "code",
      "source": [
        "# print thr trangle in doum side\n",
        "%%file Q15.cpp\n",
        "#include<iostream>\n",
        "using namespace std;\n",
        "int main(){\n",
        "    int n,m;\n",
        "    cout<<\"enter the value of n and m is :\"<<endl;\n",
        "    cin>>n>>m;\n",
        "    for( int i=1;i<=n;i++){\n",
        "        for( int j=1;j<=m;j++){\n",
        "            if( i<=j){\n",
        "                cout<<\"*\";\n",
        "\n",
        "            }\n",
        "            else{\n",
        "                cout<<\" \";\n",
        "\n",
        "            }\n",
        "\n",
        "        }\n",
        "        cout<<endl;\n",
        "    }\n",
        "}"
      ],
      "metadata": {
        "colab": {
          "base_uri": "https://localhost:8080/"
        },
        "id": "H2MpPRqWFxq1",
        "outputId": "4df431d7-7acd-42c1-da6d-350b19f8bcff"
      },
      "execution_count": null,
      "outputs": [
        {
          "output_type": "stream",
          "name": "stdout",
          "text": [
            "Writing Q15.cpp\n"
          ]
        }
      ]
    },
    {
      "cell_type": "code",
      "source": [
        "!g++ Q15.cpp\n",
        "!./a.out"
      ],
      "metadata": {
        "colab": {
          "base_uri": "https://localhost:8080/"
        },
        "id": "L--lJXw0GwDQ",
        "outputId": "e4555bf0-5cb6-4450-ee36-caae762eb6ff"
      },
      "execution_count": null,
      "outputs": [
        {
          "output_type": "stream",
          "name": "stdout",
          "text": [
            "enter the value of n and m is :\n",
            "4\n",
            "5\n",
            "*****\n",
            " ****\n",
            "  ***\n",
            "   **\n"
          ]
        }
      ]
    },
    {
      "cell_type": "code",
      "source": [
        "#patten of the square number\n",
        "%%file Q17.cpp\n",
        "#include<iostream>\n",
        "using namespace std;\n",
        "int main(){\n",
        "    int n;\n",
        "    cin>>n;\n",
        "    for (int i=1;i<=n;i++){\n",
        "        for ( int j=i;j<=n;j++){\n",
        "            cout<<j;\n",
        "        }\n",
        "        for ( int j =1;j<=(i-1);j++){\n",
        "            cout<<j;\n",
        "        }\n",
        "        cout<<endl;\n",
        "    }\n",
        "}"
      ],
      "metadata": {
        "id": "1grNAc44Nu55",
        "colab": {
          "base_uri": "https://localhost:8080/"
        },
        "outputId": "11764d70-3cbc-4030-a65b-d606e2765c92"
      },
      "execution_count": null,
      "outputs": [
        {
          "output_type": "stream",
          "name": "stdout",
          "text": [
            "Overwriting Q17.cpp\n"
          ]
        }
      ]
    },
    {
      "cell_type": "code",
      "source": [
        "!g++ Q17.cpp\n",
        "!./a.out"
      ],
      "metadata": {
        "colab": {
          "base_uri": "https://localhost:8080/"
        },
        "id": "yRhrXDHS9opx",
        "outputId": "dcece640-f7e6-4fed-e0eb-1086077923bf"
      },
      "execution_count": null,
      "outputs": [
        {
          "output_type": "stream",
          "name": "stdout",
          "text": [
            "7\n",
            "1234567\n",
            "2345671\n",
            "3456712\n",
            "4567123\n",
            "5671234\n",
            "6712345\n",
            "7123456\n"
          ]
        }
      ]
    },
    {
      "cell_type": "code",
      "source": [
        "%%file Q18.cpp\n",
        "#include<iostream>\n",
        "using namespace std;\n",
        "int main(){\n",
        "    int n;\n",
        "    cin>>n;\n",
        "    for ( int i=i ; i<=n;i++){\n",
        "        for (int j=1;j<=n;j++){\n",
        "            cout<<j;\n",
        "        }\n",
        "        cout<<endl;\n",
        "    }\n",
        "}"
      ],
      "metadata": {
        "colab": {
          "base_uri": "https://localhost:8080/"
        },
        "id": "9X8S8dDwN2oM",
        "outputId": "8989e0e1-c590-4e46-fdb6-d17ab09744db"
      },
      "execution_count": null,
      "outputs": [
        {
          "output_type": "stream",
          "name": "stdout",
          "text": [
            "Writing Q18.cpp\n"
          ]
        }
      ]
    },
    {
      "cell_type": "code",
      "source": [
        "!g++ Q18.cpp\n",
        "!./a.out"
      ],
      "metadata": {
        "colab": {
          "base_uri": "https://localhost:8080/"
        },
        "id": "Xr9qA1XLOm8m",
        "outputId": "32065bf7-1cc2-4199-e1ae-ea42eeb9d3a0"
      },
      "execution_count": null,
      "outputs": [
        {
          "output_type": "stream",
          "name": "stdout",
          "text": [
            "4\n",
            "1234\n",
            "1234\n",
            "1234\n",
            "1234\n",
            "1234\n"
          ]
        }
      ]
    },
    {
      "cell_type": "code",
      "source": [
        "%%file Q19.cpp\n",
        "#include<iostream>\n",
        "using namespace std;\n",
        "int main(){\n",
        "    int n;\n",
        "    cin>>n;\n",
        "    for( int i=1;i<=n;i++){\n",
        "        for (int j =1;j<=n;j++){\n",
        "            if(i==1||j==1||i==n||j==n){cout<<j;\n",
        "                                       }\n",
        "            else{ cout<<\" \";}\n",
        "        }\n",
        "        cout<<endl;\n",
        "    }\n",
        "}"
      ],
      "metadata": {
        "colab": {
          "base_uri": "https://localhost:8080/"
        },
        "id": "JROx8UPIO8dn",
        "outputId": "2c8761b9-2ce4-454f-a4e7-6c44c9b1b7b1"
      },
      "execution_count": null,
      "outputs": [
        {
          "output_type": "stream",
          "name": "stdout",
          "text": [
            "Overwriting Q19.cpp\n"
          ]
        }
      ]
    },
    {
      "cell_type": "code",
      "source": [
        "!g++ Q19.cpp\n",
        "!./a.out"
      ],
      "metadata": {
        "colab": {
          "base_uri": "https://localhost:8080/"
        },
        "id": "9YHoY0GTRTIA",
        "outputId": "898b7451-807c-4310-a8a4-4f7b90cc7c55"
      },
      "execution_count": null,
      "outputs": [
        {
          "output_type": "stream",
          "name": "stdout",
          "text": [
            "6\n",
            "123456\n",
            "1    6\n",
            "1    6\n",
            "1    6\n",
            "1    6\n",
            "123456\n"
          ]
        }
      ]
    },
    {
      "cell_type": "code",
      "source": [
        "# odd and even pattarn\n",
        "%%file Q20.cpp\n",
        "#include<iostream>\n",
        "using namespace std;\n",
        "int main(){\n",
        "    int n,m;\n",
        "    cin>>n>>m;\n",
        "    for ( int i=1; i<=n;i++){\n",
        "        for( int j=1; j<=m; j++){\n",
        "            if( i%2!=0){\n",
        "                if(i%2!=0){\n",
        "                    cout<<1;\n",
        "\n",
        "                }\n",
        "                else{\n",
        "                    cout<<2;\n",
        "                }\n",
        "\n",
        "            }\n",
        "            else{\n",
        "                cout<<2;\n",
        "            }\n",
        "        }\n",
        "        cout<<endl;\n",
        "    }\n",
        "}"
      ],
      "metadata": {
        "colab": {
          "base_uri": "https://localhost:8080/"
        },
        "id": "ITBAfqkLSBVU",
        "outputId": "959a9df2-a4e4-477d-b45b-62d8a692e8e0"
      },
      "execution_count": null,
      "outputs": [
        {
          "output_type": "stream",
          "name": "stdout",
          "text": [
            "Overwriting Q20.cpp\n"
          ]
        }
      ]
    },
    {
      "cell_type": "code",
      "source": [
        "!g++ Q20.cpp\n",
        "!./a.out"
      ],
      "metadata": {
        "colab": {
          "base_uri": "https://localhost:8080/"
        },
        "id": "JdhqqtfLWPKh",
        "outputId": "6d63a1c3-7c3d-418d-e967-8a1d114de658"
      },
      "execution_count": null,
      "outputs": [
        {
          "output_type": "stream",
          "name": "stdout",
          "text": [
            "5\n",
            "6\n",
            "111111\n",
            "222222\n",
            "111111\n",
            "222222\n",
            "111111\n"
          ]
        }
      ]
    },
    {
      "cell_type": "code",
      "source": [],
      "metadata": {
        "id": "Zfr7m1ATZYaq"
      },
      "execution_count": null,
      "outputs": []
    },
    {
      "cell_type": "code",
      "source": [
        "%%file Q21.cpp\n",
        "#include<iostream>\n",
        "using namespace std;\n",
        "int main(){\n",
        "    int n,m;\n",
        "    cin>>n>>m;\n",
        "    for( int i=1;i<=n;i++){\n",
        "        for ( int j=1;j<=m;j++){\n",
        "            if((i+j)%2==0){\n",
        "                cout<<\"1\";\n",
        "            }\n",
        "            else{\n",
        "                cout<<\"2\";\n",
        "\n",
        "            }\n",
        "        }\n",
        "        cout<<endl;\n",
        "    }\n",
        "}"
      ],
      "metadata": {
        "colab": {
          "base_uri": "https://localhost:8080/"
        },
        "id": "JMiz2czmZgD7",
        "outputId": "2c70ae21-16f5-4904-fb86-c0dbe9fa443b"
      },
      "execution_count": null,
      "outputs": [
        {
          "output_type": "stream",
          "name": "stdout",
          "text": [
            "Overwriting Q21.cpp\n"
          ]
        }
      ]
    },
    {
      "cell_type": "code",
      "source": [
        "!g++ Q21.cpp\n",
        "!./a.out"
      ],
      "metadata": {
        "colab": {
          "base_uri": "https://localhost:8080/"
        },
        "id": "HSjCH7YHamcA",
        "outputId": "e0bf2a14-dbe5-4da5-e5c6-09ec263e7b1d"
      },
      "execution_count": null,
      "outputs": [
        {
          "output_type": "stream",
          "name": "stdout",
          "text": [
            "4\n",
            "5\n",
            "12121\n",
            "21212\n",
            "12121\n",
            "21212\n"
          ]
        }
      ]
    },
    {
      "cell_type": "code",
      "source": [
        "# print the number od digit\n",
        "%%file Q22.cpp\n",
        "# include<iostream>\n",
        "using namespace std;\n",
        " int main(){\n",
        "    int n;\n",
        "    cin>>n;\n",
        "    int digit=0;\n",
        "    while (n>0){\n",
        "        digit++;\n",
        "        n/=10;\n",
        "\n",
        "    }\n",
        "    cout<<digit<<endl;\n",
        " }"
      ],
      "metadata": {
        "colab": {
          "base_uri": "https://localhost:8080/"
        },
        "id": "Ksf8tjRqhIZJ",
        "outputId": "cb26716a-2a53-4064-ff5b-9b4ca64eb01d"
      },
      "execution_count": null,
      "outputs": [
        {
          "output_type": "stream",
          "name": "stdout",
          "text": [
            "Overwriting Q22.cpp\n"
          ]
        }
      ]
    },
    {
      "cell_type": "code",
      "source": [
        "!g++ Q22.cpp\n",
        "!./a.out"
      ],
      "metadata": {
        "colab": {
          "base_uri": "https://localhost:8080/"
        },
        "id": "vF5l6z19h-z4",
        "outputId": "6b233da9-2d7a-4827-b307-50eab04c2a23"
      },
      "execution_count": null,
      "outputs": [
        {
          "output_type": "stream",
          "name": "stdout",
          "text": [
            "867676\n",
            "6\n"
          ]
        }
      ]
    },
    {
      "cell_type": "code",
      "source": [
        "# sum of digits in the given number\n",
        "%%file Q23.cpp\n",
        "#include<iostream>\n",
        "using namespace std;\n",
        "int main(){\n",
        "    int n;\n",
        "    cin>>n;\n",
        "\n",
        "     int sum=0;\n",
        "    while(n>0){\n",
        "       int digit=n%10;\n",
        "\n",
        "        sum=sum+digit;\n",
        "       n/=10;\n",
        "\n",
        "    }\n",
        "    cout<<sum<<endl;\n",
        "}"
      ],
      "metadata": {
        "colab": {
          "base_uri": "https://localhost:8080/"
        },
        "id": "_Jr71ID4ieLW",
        "outputId": "7448f88e-347f-4f80-cd0f-34967b7690b2"
      },
      "execution_count": null,
      "outputs": [
        {
          "output_type": "stream",
          "name": "stdout",
          "text": [
            "Overwriting Q23.cpp\n"
          ]
        }
      ]
    },
    {
      "cell_type": "code",
      "source": [
        "!g++ Q23.cpp\n",
        "!./a.out"
      ],
      "metadata": {
        "colab": {
          "base_uri": "https://localhost:8080/"
        },
        "id": "F1j5fYwujEsE",
        "outputId": "11887a0a-0d0d-404a-ad49-62b291dda3e0"
      },
      "execution_count": null,
      "outputs": [
        {
          "output_type": "stream",
          "name": "stdout",
          "text": [
            "23457\n",
            "21\n"
          ]
        }
      ]
    },
    {
      "cell_type": "code",
      "source": [
        "# find the reverse  number\n",
        "%%file Q24.cpp\n",
        "#include<iostream>\n",
        "using namespace std;\n",
        "int main(){\n",
        "    int n;\n",
        "    cin>>n;\n",
        "    int reve=0;\n",
        "    while(n>0){\n",
        "        int digit=n%10;\n",
        "        reve=(reve*10)+digit;\n",
        "        n/=10;\n",
        "    }\n",
        "    cout<<reve<<endl;\n",
        "    return 0;\n",
        "}"
      ],
      "metadata": {
        "colab": {
          "base_uri": "https://localhost:8080/"
        },
        "id": "3ZnxOfm-yCNr",
        "outputId": "533692c5-34a6-4758-c315-553d372e9b7a"
      },
      "execution_count": null,
      "outputs": [
        {
          "output_type": "stream",
          "name": "stdout",
          "text": [
            "Overwriting Q24.cpp\n"
          ]
        }
      ]
    },
    {
      "cell_type": "code",
      "source": [
        "!g++ Q24.cpp\n",
        "!./a.out"
      ],
      "metadata": {
        "colab": {
          "base_uri": "https://localhost:8080/"
        },
        "id": "eGA_I8lYzl2s",
        "outputId": "87400348-dbd5-4973-88da-86652bbc303b"
      },
      "execution_count": null,
      "outputs": [
        {
          "output_type": "stream",
          "name": "stdout",
          "text": [
            "345467\n",
            "764543\n"
          ]
        }
      ]
    },
    {
      "cell_type": "code",
      "source": [
        "#find the sum of alternative series\n",
        "%%file Q25.cpp\n",
        "#include<iostream>\n",
        "using namespace std ;\n",
        "int main(){\n",
        "    int n;\n",
        "    cin>>n;\n",
        "    int sum=0;\n",
        "   for ( int i=1;i<=n;i++){\n",
        "      if(i%2==0){\n",
        "          sum-=i;\n",
        "      }\n",
        "      else{\n",
        "          sum+=i;\n",
        "      }\n",
        "   }\n",
        "    cout<<sum<<endl;\n",
        "}"
      ],
      "metadata": {
        "colab": {
          "base_uri": "https://localhost:8080/"
        },
        "id": "amkauYpa1RKm",
        "outputId": "1a13fda2-32e2-45c0-e8b0-0c8d9e32be94"
      },
      "execution_count": null,
      "outputs": [
        {
          "output_type": "stream",
          "name": "stdout",
          "text": [
            "Writing Q25.cpp\n"
          ]
        }
      ]
    },
    {
      "cell_type": "code",
      "source": [
        "!g++ Q25.cpp\n",
        "!./a.out"
      ],
      "metadata": {
        "colab": {
          "base_uri": "https://localhost:8080/"
        },
        "id": "-3K-_mQW2c4L",
        "outputId": "2a4ba876-1037-45c2-e968-718833309042"
      },
      "execution_count": null,
      "outputs": [
        {
          "output_type": "stream",
          "name": "stdout",
          "text": [
            "4\n",
            "-2\n"
          ]
        }
      ]
    },
    {
      "cell_type": "code",
      "source": [
        "#print the first n number of factorial\n",
        "%%file Q26.cpp\n",
        "#include<iostream>\n",
        "using namespace std;\n",
        "int main(){\n",
        "    int n;\n",
        "    cin>>n;\n",
        "    int fact=1;\n",
        "    for ( int i=1; i<=n; i++){\n",
        "        if(n==0){\n",
        "            cout<<'1';\n",
        "        }\n",
        "        else{\n",
        "            fact=fact*i;\n",
        "        }\n",
        "        cout<<fact<<endl;\n",
        "    }\n",
        "\n",
        "\n",
        "}"
      ],
      "metadata": {
        "colab": {
          "base_uri": "https://localhost:8080/"
        },
        "id": "X85MCpvE43_J",
        "outputId": "4ad84b6e-f2ab-43ad-9e20-0a8b7cdcb44c"
      },
      "execution_count": null,
      "outputs": [
        {
          "output_type": "stream",
          "name": "stdout",
          "text": [
            "Overwriting Q26.cpp\n"
          ]
        }
      ]
    },
    {
      "cell_type": "code",
      "source": [
        "!g++ Q26.cpp\n",
        "!./a.out"
      ],
      "metadata": {
        "colab": {
          "base_uri": "https://localhost:8080/"
        },
        "id": "g0M1F9af57gd",
        "outputId": "7aebd973-ce07-49f4-cdfc-8a4d826b1f94"
      },
      "execution_count": null,
      "outputs": [
        {
          "output_type": "stream",
          "name": "stdout",
          "text": [
            "5\n",
            "1\n",
            "2\n",
            "6\n",
            "24\n",
            "120\n"
          ]
        }
      ]
    },
    {
      "cell_type": "code",
      "source": [
        "#find the power of a^b\n",
        "%%file Q27.cpp\n",
        "#include<iostream>\n",
        "using namespace std;\n",
        "int main(){\n",
        "    int a,b;\n",
        "    cin>>a>>b;\n",
        "    int result=1;\n",
        "    for(int i; i<b;i++){\n",
        "        result=result*a;\n",
        "    }\n",
        "    cout<<result<<endl;\n",
        "}"
      ],
      "metadata": {
        "colab": {
          "base_uri": "https://localhost:8080/"
        },
        "id": "OrYmBLyc7JGp",
        "outputId": "d55df0b0-7016-4c08-f183-62daeb8b05d3"
      },
      "execution_count": null,
      "outputs": [
        {
          "output_type": "stream",
          "name": "stdout",
          "text": [
            "Overwriting Q27.cpp\n"
          ]
        }
      ]
    },
    {
      "cell_type": "code",
      "source": [
        "!g++ Q27.cpp\n",
        "!./a.out"
      ],
      "metadata": {
        "colab": {
          "base_uri": "https://localhost:8080/"
        },
        "id": "OkGMYkdr75SE",
        "outputId": "1a16205f-f7d5-40bd-f34d-07dea1868a5d"
      },
      "execution_count": null,
      "outputs": [
        {
          "output_type": "stream",
          "name": "stdout",
          "text": [
            "2\n",
            "6\n",
            "64\n"
          ]
        }
      ]
    },
    {
      "cell_type": "code",
      "source": [
        "#change the binary number to decimal number\n",
        "%%file Q28.cpp\n",
        "#include<iostream>\n",
        "#include<cmath>\n",
        "using namespace std;\n",
        "int main(){\n",
        "    int n;\n",
        "    cin>>n;\n",
        "    int tdigit=0;\n",
        "    int power=1;\n",
        "    while(n>0){\n",
        "        int digit=n%10;\n",
        "         tdigit+=digit*power;\n",
        "        power*=2;\n",
        "        n/=10;\n",
        "    }\n",
        "    cout<<tdigit<<endl;\n",
        "}"
      ],
      "metadata": {
        "colab": {
          "base_uri": "https://localhost:8080/"
        },
        "id": "g_tIhcR02Dc1",
        "outputId": "3bdc8c8d-7fa7-40f7-d938-9e2f3a7db104"
      },
      "execution_count": null,
      "outputs": [
        {
          "output_type": "stream",
          "name": "stdout",
          "text": [
            "Overwriting Q28.cpp\n"
          ]
        }
      ]
    },
    {
      "cell_type": "code",
      "source": [
        "!g++ Q28.cpp\n",
        "!./a.out"
      ],
      "metadata": {
        "colab": {
          "base_uri": "https://localhost:8080/"
        },
        "id": "W8rITib_3VdO",
        "outputId": "9b9af71b-6571-4dcb-8533-a14beb803386"
      },
      "execution_count": null,
      "outputs": [
        {
          "output_type": "stream",
          "name": "stdout",
          "text": [
            "101\n",
            "5\n"
          ]
        }
      ]
    },
    {
      "cell_type": "code",
      "source": [
        "#dicemal to binary number\n",
        "%%file Q29.cpp\n",
        "#include<iostream>\n",
        "using namespace std;\n",
        "int main()\n",
        "{\n",
        "    int n;\n",
        "    cin>>n;\n",
        "    int ans=0;\n",
        "    int power=1;\n",
        "    while(n>0){\n",
        "    int par=n%2;\n",
        "    ans+=par*power;\n",
        "    power*=10;\n",
        "    n/=2;\n",
        "    }\n",
        "    cout<<ans<<endl;\n",
        "\n",
        "}"
      ],
      "metadata": {
        "colab": {
          "base_uri": "https://localhost:8080/"
        },
        "id": "9ZpvH0Su-r6j",
        "outputId": "0047b84d-d15c-4b5e-f0e2-9060b7afeb87"
      },
      "execution_count": null,
      "outputs": [
        {
          "output_type": "stream",
          "name": "stdout",
          "text": [
            "Overwriting Q29.cpp\n"
          ]
        }
      ]
    },
    {
      "cell_type": "code",
      "source": [
        "!g++ Q29.cpp\n",
        "!./a.out"
      ],
      "metadata": {
        "colab": {
          "base_uri": "https://localhost:8080/"
        },
        "id": "G4diEanJ_cLO",
        "outputId": "82012958-9a0c-4ac6-ed30-6643a18ea0d3"
      },
      "execution_count": null,
      "outputs": [
        {
          "output_type": "stream",
          "name": "stdout",
          "text": [
            "5\n",
            "101\n"
          ]
        }
      ]
    },
    {
      "cell_type": "code",
      "source": [
        "#function\n",
        "%%file Q30.cpp\n",
        "#include<iostream>\n",
        "using namespace std;\n",
        "int add(int a,int b){\n",
        "    int sum=a+b;\n",
        "    return sum;\n",
        "}\n",
        "int main(){\n",
        "     int a, b ;\n",
        "     cin>>a>>b;\n",
        "    int result= add(a,b);\n",
        "     cout<<result<<endl;\n",
        "}"
      ],
      "metadata": {
        "colab": {
          "base_uri": "https://localhost:8080/"
        },
        "id": "Iiczz8j8Kmw-",
        "outputId": "c5ecbfaf-1686-455b-da41-16693cb1b367"
      },
      "execution_count": null,
      "outputs": [
        {
          "output_type": "stream",
          "name": "stdout",
          "text": [
            "Writing Q30.cpp\n"
          ]
        }
      ]
    },
    {
      "cell_type": "code",
      "source": [
        "!g++ Q30.cpp\n",
        "!./a.out"
      ],
      "metadata": {
        "colab": {
          "base_uri": "https://localhost:8080/"
        },
        "id": "bq01QOcXLWqA",
        "outputId": "0ac99b07-36d8-4029-ce78-74a44f03b8cd"
      },
      "execution_count": null,
      "outputs": [
        {
          "output_type": "stream",
          "name": "stdout",
          "text": [
            "4\n",
            "6\n",
            "10\n"
          ]
        }
      ]
    },
    {
      "cell_type": "code",
      "source": [
        "#find the squrae\n",
        "%%file Q31.cpp\n",
        "#include<iostream>\n",
        "using namespace std;\n",
        "int square(int x){\n",
        "    return x*x;\n",
        "}\n",
        "int main(){\n",
        "    int n;\n",
        "    cin>>n;\n",
        "    for ( int i=1 ; i<=n; i++){\n",
        "        cout<<square(i)<<endl;\n",
        "    }\n",
        "}\n"
      ],
      "metadata": {
        "colab": {
          "base_uri": "https://localhost:8080/"
        },
        "id": "7VBiMpT_2Brd",
        "outputId": "a4e2d89d-054c-4810-d127-dabb5405a9fe"
      },
      "execution_count": null,
      "outputs": [
        {
          "output_type": "stream",
          "name": "stdout",
          "text": [
            "Overwriting Q31.cpp\n"
          ]
        }
      ]
    },
    {
      "cell_type": "code",
      "source": [
        "!g++ Q31.cpp\n",
        "!./a.out"
      ],
      "metadata": {
        "colab": {
          "base_uri": "https://localhost:8080/"
        },
        "id": "zZyCy7vO2x3J",
        "outputId": "91cb3008-03ab-4168-e66a-6fb7b70d9870"
      },
      "execution_count": null,
      "outputs": [
        {
          "output_type": "stream",
          "name": "stdout",
          "text": [
            "5\n",
            "1\n",
            "4\n",
            "9\n",
            "16\n",
            "25\n"
          ]
        }
      ]
    },
    {
      "cell_type": "code",
      "source": [
        "# find the area and circumference of circle\n",
        "%%file Q32.cpp\n",
        "#include<iostream>\n",
        "#include<cmath>\n",
        "using namespace std;\n",
        "double area( int r){\n",
        "    return 3.14*r*r;\n",
        "}\n",
        "double circumference(int r){\n",
        "    return 2*3.14*r;\n",
        "}\n",
        "int main(){\n",
        "    int n;\n",
        "    cin>>n;\n",
        "    cout<<\"area\"<<area(n)<<endl;\n",
        "    cout<<\"circumference\"<<circumference(n)<<endl;\n",
        "}"
      ],
      "metadata": {
        "colab": {
          "base_uri": "https://localhost:8080/"
        },
        "id": "0pQhQnFT3VKW",
        "outputId": "384ce395-6af7-4206-df37-945fb1c332b6"
      },
      "execution_count": null,
      "outputs": [
        {
          "output_type": "stream",
          "name": "stdout",
          "text": [
            "Writing Q32.cpp\n"
          ]
        }
      ]
    },
    {
      "cell_type": "code",
      "source": [
        "!g++ Q32.cpp\n",
        "!./a.out"
      ],
      "metadata": {
        "colab": {
          "base_uri": "https://localhost:8080/"
        },
        "id": "YPU788ZK5F9F",
        "outputId": "9b86b192-46ae-4c7b-d48f-0631d2236cfa"
      },
      "execution_count": null,
      "outputs": [
        {
          "output_type": "stream",
          "name": "stdout",
          "text": [
            "5\n",
            "area78.5\n",
            "circumference31.4\n"
          ]
        }
      ]
    }
  ]
}